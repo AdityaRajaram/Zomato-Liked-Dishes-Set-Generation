{
 "cells": [
  {
   "cell_type": "code",
   "execution_count": 1,
   "metadata": {},
   "outputs": [
    {
     "name": "stdout",
     "output_type": "stream",
     "text": [
      "importing Jupyter notebook from timing_wrapper.ipynb\n"
     ]
    }
   ],
   "source": [
    "import import_ipynb\n",
    "from timing_wrapper import timeit"
   ]
  },
  {
   "cell_type": "code",
   "execution_count": 2,
   "metadata": {},
   "outputs": [],
   "source": [
    "class Node:\n",
    "    def __init__(self, k, max_leaf_size, depth):\n",
    "        self.max_leaf_size = max_leaf_size\n",
    "        self.depth=depth\n",
    "        self.children={}\n",
    "        self.k=0\n",
    "        self.isTree=False\n",
    "    def add(self, candidate):\n",
    "        self.children[tuple(candidate)] = 0"
   ]
  },
  {
   "cell_type": "code",
   "execution_count": 3,
   "metadata": {},
   "outputs": [],
   "source": [
    "class Tree:\n",
    " \n",
    "    def __init__(self, c_list, k=3, max_leaf_size=3, depth=0):\n",
    "        self.depth=depth\n",
    "        self.children={}\n",
    "        self.k=k\n",
    "        self.max_leaf_size=max_leaf_size\n",
    "        self.isTree=True\n",
    "        self.c_length=len(c_list[0])\n",
    "        self.build_tree(c_list)\n",
    "\n",
    "    def update_tree(self):\n",
    "        '''\n",
    "        Function which splits the leaf node of the tree if it contains more elements than self.max_leaf_size.\n",
    "        '''\n",
    "        for child in self.children:\n",
    "            if len(self.children[child].children) > self.max_leaf_size:\n",
    "                if self.depth+1 < self.c_length: # Make sure that only fewer than k divisions are performed\n",
    "                    child=Tree(list(self.children[child].children.keys()), k=self.k, max_leaf_size=self.max_leaf_size, depth=self.depth+1)\n",
    "\n",
    "    def build_tree(self, c_list):\n",
    "        for candidate in c_list:\n",
    "            if candidate[self.depth]%self.k not in self.children:\n",
    "                self.children[candidate[self.depth]%self.k]=Node(k=self.k, max_leaf_size=self.max_leaf_size, depth=self.depth)\n",
    "            self.children[candidate[self.depth]%self.k].add(candidate)\n",
    "        self.update_tree()\n",
    "\n",
    "    def check(self, candidate, update=False):\n",
    "        support=0\n",
    "        if candidate[self.depth]%self.k in self.children:\n",
    "            child = self.children[candidate[self.depth]%self.k]\n",
    "            if child.isTree:\n",
    "                support = child.check(candidate)\n",
    "            else:\n",
    "                if tuple(candidate) in list(child.children.keys()):\n",
    "                    if update:\n",
    "                        child.children[tuple(candidate)]+=1\n",
    "                    return child.children[tuple(candidate)]\n",
    "                else:\n",
    "                    return 0\n",
    "        return support\n",
    "\n"
   ]
  },
  {
   "cell_type": "code",
   "execution_count": 4,
   "metadata": {},
   "outputs": [],
   "source": [
    "def generate_subsets(transaction, k):\n",
    "    res=[]\n",
    "    n = len(transaction)\n",
    "    transaction.sort()\n",
    "\n",
    "    def recurse(transaction, k, i=0, curr=[]):\n",
    "        '''\n",
    "        Recursion function used in subset generation\n",
    "        '''\n",
    "        if k==1:\n",
    "            for j in range(i,n):\n",
    "                res.append(curr + [transaction[j]])\n",
    "            return None\n",
    "        for j in range(i,n-k+1):\n",
    "            temp= curr+ [transaction[j]]\n",
    "            recurse(transaction, k-1, j+1, temp[:])\n",
    "    recurse(transaction, k)\n",
    "    return res"
   ]
  },
  {
   "cell_type": "code",
   "execution_count": 5,
   "metadata": {},
   "outputs": [],
   "source": [
    "\n",
    "if __name__=='__main__':\n",
    "    temp_list_1=[[1,2,3],[2,3,4],[3,5,6],[4,5,6],[5,7,9],[7,8,9],[4,7,9]]\n",
    "    t=Tree(temp_list_1, k=3, max_leaf_size=3, depth=0)"
   ]
  },
  {
   "cell_type": "code",
   "execution_count": null,
   "metadata": {},
   "outputs": [],
   "source": []
  },
  {
   "cell_type": "code",
   "execution_count": null,
   "metadata": {},
   "outputs": [],
   "source": []
  }
 ],
 "metadata": {
  "kernelspec": {
   "display_name": "Python 3",
   "language": "python",
   "name": "python3"
  },
  "language_info": {
   "codemirror_mode": {
    "name": "ipython",
    "version": 3
   },
   "file_extension": ".py",
   "mimetype": "text/x-python",
   "name": "python",
   "nbconvert_exporter": "python",
   "pygments_lexer": "ipython3",
   "version": "3.7.4"
  }
 },
 "nbformat": 4,
 "nbformat_minor": 2
}
